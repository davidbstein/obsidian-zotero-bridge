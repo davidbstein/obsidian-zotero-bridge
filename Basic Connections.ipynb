{
 "cells": [
  {
   "cell_type": "markdown",
   "id": "38d37966",
   "metadata": {},
   "source": [
    "# TODO\n",
    "\n",
    " - [ ] Basic mechanics\n",
    "     - [ ] pull in annotations from zotero\n",
    "     - [ ] pull in article notes from zotero\n",
    " - [ ] SYNC! \n",
    "     - [ ] decide on source of truth\n",
    "     - [ ] figure out if renaming files is dangerous in obsidian\n",
    "     - [ ] figure out if I can push terms into Zotero - maybe with a special placeholder note?"
   ]
  },
  {
   "cell_type": "markdown",
   "id": "5843c007",
   "metadata": {},
   "source": [
    "# Code"
   ]
  },
  {
   "cell_type": "code",
   "execution_count": 201,
   "id": "dce2c390",
   "metadata": {},
   "outputs": [],
   "source": [
    "#builtin\n",
    "import collections\n",
    "import functools\n",
    "import json\n",
    "import os\n",
    "import pathlib\n",
    "import pickle\n",
    "import re\n",
    "import sys\n",
    "\n",
    "#libs\n",
    "import joblib\n",
    "import markdown\n",
    "import requests\n",
    "import yaml"
   ]
  },
  {
   "cell_type": "code",
   "execution_count": null,
   "id": "41fdbdea",
   "metadata": {},
   "outputs": [],
   "source": [
    "_memory = joblib.Memory(\".request_cache\")"
   ]
  },
  {
   "cell_type": "code",
   "execution_count": 205,
   "id": "d1b54335",
   "metadata": {},
   "outputs": [
    {
     "data": {
      "text/plain": [
       "'/Users/stein/.secrets'"
      ]
     },
     "execution_count": 205,
     "metadata": {},
     "output_type": "execute_result"
    }
   ],
   "source": []
  },
  {
   "cell_type": "code",
   "execution_count": 198,
   "id": "8a22c57d",
   "metadata": {},
   "outputs": [],
   "source": [
    "def get_secret(key):\n",
    "    with open(os.path.expanduser('~/.secrets.json')) as f:\n",
    "        to_ret = json.load(f).get(key)\n",
    "    return to_ret\n",
    "\n",
    "def get_setting(key):\n",
    "    with open(os.path.expanduser('~/.settings.json')) as f:\n",
    "        to_ret = json.load(f).get(key)\n",
    "    return to_ret"
   ]
  },
  {
   "cell_type": "code",
   "execution_count": null,
   "id": "83326f06",
   "metadata": {},
   "outputs": [],
   "source": [
    "_zot_secrets = get_secret(\"zotero\")\n",
    "_settings = get_setting(\"OBSDIAN_ZOERTO_SYNC\")"
   ]
  },
  {
   "cell_type": "code",
   "execution_count": null,
   "id": "304908dc",
   "metadata": {},
   "outputs": [],
   "source": [
    "ZOT_API_KEY = _zot_secrets[\"pyzotero_api_key\"]\n",
    "ZOT_LIB_ID = _zot_secrets[\"user_library_id\"]"
   ]
  },
  {
   "cell_type": "code",
   "execution_count": 182,
   "id": "97e30a58",
   "metadata": {},
   "outputs": [],
   "source": [
    "OBS_FOLDER = _settings['OBSIDIAN_FOLDER']\n",
    "OBS_PROJECT_FOLDER = f'{OBS_FOLDER}/{_settings[\"OBS_PROJECT_FOLDER\"]}'\n",
    "OBS_ARTICLES_FOLDER = f'{OBS_FOLDER}/{_settings[\"OBS_ARTICLES_FOLDER\"]}'\n",
    "\n",
    "OBS_FULLPATH = f\"{OBSIDIAN_FOLDER}/{OBS_PROJECT_FOLDER}/{OBS_ARTICLES_FOLDER}\""
   ]
  },
  {
   "cell_type": "markdown",
   "id": "753dd7bb",
   "metadata": {},
   "source": [
    "## helpers"
   ]
  },
  {
   "cell_type": "code",
   "execution_count": 3,
   "id": "a84e9dec",
   "metadata": {},
   "outputs": [],
   "source": [
    "def pretty_print(obj):\n",
    "    print(yaml.dump(obj).replace(\"  \", \" |  \"))"
   ]
  },
  {
   "cell_type": "code",
   "execution_count": 56,
   "id": "a6b9fa3c",
   "metadata": {},
   "outputs": [],
   "source": [
    "def list_to_id_dict(l, id_getter=None):\n",
    "    key=\"id\"\n",
    "    if type(id_getter) == str:\n",
    "        key=id_getter\n",
    "        id_getter = None\n",
    "    if not id_getter:\n",
    "        id_getter = lambda e: e[key]\n",
    "    return {id_getter(e): e for e in l}"
   ]
  },
  {
   "cell_type": "markdown",
   "id": "c3903e4d",
   "metadata": {},
   "source": [
    "## Zotero APIs"
   ]
  },
  {
   "cell_type": "code",
   "execution_count": 5,
   "id": "5cbfb12d",
   "metadata": {},
   "outputs": [],
   "source": [
    "ZOT_API_URL = \"https://api.zotero.org\""
   ]
  },
  {
   "cell_type": "code",
   "execution_count": 64,
   "id": "1a052dd6",
   "metadata": {},
   "outputs": [],
   "source": [
    "def _get_next_zot_link(headers):\n",
    "    link = headers.get(\"Link\")\n",
    "    if not link:\n",
    "        return\n",
    "    link = [l for l in link.split(\",\") if 'rel=\"next\"' in l]\n",
    "    if not link:\n",
    "        return\n",
    "    return link[0].split(\"<\")[1].split(\">\")[0]\n",
    "\n",
    "@_memory.cache\n",
    "def do_zot_get(path, group_id=None, user_id=ZOT_LIB_ID, params=None, api_key=ZOT_API_KEY, last_modified_version=0):\n",
    "    params = params or {}\n",
    "    params[\"key\"] = api_key\n",
    "    if group_id:\n",
    "        user_or_group_prefix = f\"groups/{group_id}\"\n",
    "    else:\n",
    "        user_or_group_prefix = f\"users/{user_id}\"        \n",
    "    headers = {\n",
    "        \"Zotero-API-Key\": api_key,\n",
    "        \"If-Modified-Since-Version\": str(last_modified_version)\n",
    "    }\n",
    "    resp = requests.get(f\"{ZOT_API_URL}/{user_or_group_prefix}/{path}\", params=params, headers=headers)\n",
    "    assert resp.status_code == 200, (resp.status_code, resp.url, resp.text)\n",
    "    to_ret = resp.json()\n",
    "    if type(to_ret) != list:\n",
    "        return to_ret\n",
    "    while next_url:=_get_next_zot_link(resp.headers):\n",
    "        print(resp.headers)\n",
    "        resp = requests.get(next_url, params=params, headers=headers)\n",
    "        to_ret.extend(resp.json())\n",
    "    return to_ret\n"
   ]
  },
  {
   "cell_type": "markdown",
   "id": "8a0f2f3c",
   "metadata": {},
   "source": [
    "## Pulling Data From Zotero"
   ]
  },
  {
   "cell_type": "code",
   "execution_count": 41,
   "id": "16c931bc",
   "metadata": {},
   "outputs": [],
   "source": [
    "def get_zot_groups():\n",
    "    raw = do_zot_get(\"groups\")\n",
    "    return list_to_id_dict(raw)\n",
    "\n",
    "ZOT_GROUP, ZOT_GROUP_INFO = list(get_zot_groups().items())[0]"
   ]
  },
  {
   "cell_type": "code",
   "execution_count": 81,
   "id": "438120a4",
   "metadata": {},
   "outputs": [],
   "source": [
    "\"\"\"\n",
    "SPECIAL (no \"numChildren\" field in [meta])\n",
    "    'annotation',\n",
    "    'attachment',\n",
    "\n",
    "OTHERS\n",
    "    'blogPost',\n",
    "    'book',\n",
    "    'bookSection',\n",
    "    'case',\n",
    "    'encyclopediaArticle',\n",
    "    'journalArticle',\n",
    "    'magazineArticle',\n",
    "    'note',\n",
    "    'presentation',\n",
    "    'report',\n",
    "    'statute',\n",
    "    'webpage'\n",
    "\"\"\"\n",
    "\n",
    "\n",
    "# @_memory.cache\n",
    "def get_zot_lib_items(group_id, version=0):\n",
    "    all_items = {}\n",
    "    cur_version = 0\n",
    "    while cur_version <= version:\n",
    "        resp = do_zot_get(\"items\", group_id=group_id, last_modified_version=version)\n",
    "        return resp"
   ]
  },
  {
   "cell_type": "code",
   "execution_count": null,
   "id": "ca6af02c",
   "metadata": {},
   "outputs": [],
   "source": [
    "raw_items = get_zot_lib_items(ZOT_GROUP)\n",
    "items_dict = list_to_id_dict(raw_items, \"key\")\n",
    "\n",
    "ZOT_SOURCES = [item for item in raw_items if item['meta'].get(\"numChildren\", 0) > 0]\n",
    "ZOT_ATTACHMENTS = [item for item in raw_items if item['meta'].get(\"numChildren\", 0) > 0]"
   ]
  },
  {
   "cell_type": "code",
   "execution_count": 196,
   "id": "48fe0d31",
   "metadata": {
    "scrolled": false
   },
   "outputs": [
    {
     "data": {
      "text/plain": [
       "Counter({'report': 10,\n",
       "         'presentation': 2,\n",
       "         'journalArticle': 119,\n",
       "         'attachment': 2,\n",
       "         'webpage': 12,\n",
       "         'encyclopediaArticle': 1,\n",
       "         'case': 12,\n",
       "         'bookSection': 3,\n",
       "         'book': 7,\n",
       "         'blogPost': 2,\n",
       "         'statute': 1})"
      ]
     },
     "execution_count": 196,
     "metadata": {},
     "output_type": "execute_result"
    }
   ],
   "source": [
    "# quick spotcheck\n",
    "collections.Counter([item['data']['itemType'] for item in ZOT_SOURCES])"
   ]
  },
  {
   "cell_type": "markdown",
   "id": "c8eac322",
   "metadata": {},
   "source": [
    "## Pushing Data to Obsidian"
   ]
  },
  {
   "cell_type": "code",
   "execution_count": 191,
   "id": "ab1b015b",
   "metadata": {
    "scrolled": false
   },
   "outputs": [],
   "source": [
    "def list_obs_dir():\n",
    "    try:\n",
    "        os.makedirs(OBS_FULLPATH)\n",
    "    except FileExistsError:\n",
    "        pass\n",
    "    fnames = os.listdir(OBS_FULLPATH)\n",
    "    to_ret = {}\n",
    "    for fname in fnames:\n",
    "        match = re.search(\"\\.([A-Z0-9]+)\\.md$\", fname)\n",
    "        if match:\n",
    "            to_ret[match[1]] = fname\n",
    "    return to_ret"
   ]
  },
  {
   "cell_type": "code",
   "execution_count": 190,
   "id": "652020fb",
   "metadata": {},
   "outputs": [],
   "source": [
    "def zot_source_to_filename(item):\n",
    "    pub = item['data'].get('publicationTitle', \"\")[:10].strip()\n",
    "    author = (\n",
    "        item['meta'].get('creatorSummary')\n",
    "        or\n",
    "        item['data'].get('caseName')\n",
    "        or\n",
    "        item['data'].get('institution')\n",
    "        or\n",
    "        item['data'].get('title')\n",
    "        or\n",
    "        item['data'].get('nameOfAct')\n",
    "        or\n",
    "        '__'\n",
    "    )[:20].strip()\n",
    "    date = (\n",
    "        item['meta'].get('parsedDate')\n",
    "        or \n",
    "        item['data'].get('dateDecided')\n",
    "        or\n",
    "        ''\n",
    "    )\n",
    "    raw = f\"{author}--{pub}--{date}\"\n",
    "    return re.sub(\"[^a-zA-Z0-9\\-–—_]\", \"_\", raw)+f\".{item['data']['key']}\""
   ]
  },
  {
   "cell_type": "code",
   "execution_count": null,
   "id": "3d3b9b6b",
   "metadata": {},
   "outputs": [],
   "source": [
    "def gen_summary(source):\n",
    "    to_ret = [\"---\", \"%% ZOTERO\"]\n",
    "    for k, v in source['data'].items():\n",
    "        if not v: \n",
    "            continue\n",
    "        if type(k) not in [str, int]:\n",
    "            continue\n",
    "        else:\n",
    "            to_ret.append(f'\"{k}\": {json.dumps(v)}')\n",
    "    to_ret.extend([\"%% /ZOTERO\", \"---\"])\n",
    "    #     to_ret.append(f\"#{item['data']['itemType']\"}\n",
    "    return \"\\n\".join(to_ret)\n",
    "\n",
    "def add_new_files():\n",
    "    file_list = list_obs_dir()\n",
    "    for source in ZOT_SOURCES:\n",
    "        key = source['key']\n",
    "        if key not in file_list:\n",
    "            filename = zot_source_to_filename(source)\n",
    "            with open(f\"{OBS_FULLPATH}/{filename}.md\", \"w\") as f:\n",
    "                f.write(gen_summary(source))\n",
    "          "
   ]
  },
  {
   "cell_type": "code",
   "execution_count": 197,
   "id": "9a51ec30",
   "metadata": {},
   "outputs": [],
   "source": [
    "# load all the new files  \n",
    "add_new_files()"
   ]
  },
  {
   "cell_type": "code",
   "execution_count": null,
   "id": "fa7e66ba",
   "metadata": {},
   "outputs": [],
   "source": []
  },
  {
   "cell_type": "markdown",
   "id": "6bb95fb2",
   "metadata": {},
   "source": [
    "\n",
    "\n",
    "- ,\n",
    "-\n",
    "- ,\n",
    "-\n",
    "- ,\n",
    "-\n",
    "- ,\n",
    "-\n",
    "- ,\n",
    "-\n",
    "- ,\n",
    "-\n",
    "- ,\n",
    "-\n",
    "- ,\n",
    "-\n",
    "- ,\n",
    "-\n",
    "- ,\n",
    "-\n",
    "- ,\n",
    "-\n",
    "- ,\n",
    "-\n",
    "- ,\n",
    "-\n",
    "- ,\n",
    "-\n",
    "- ,\n",
    "-\n"
   ]
  }
 ],
 "metadata": {
  "kernelspec": {
   "display_name": "Python 3 (ipykernel)",
   "language": "python",
   "name": "python3"
  },
  "language_info": {
   "codemirror_mode": {
    "name": "ipython",
    "version": 3
   },
   "file_extension": ".py",
   "mimetype": "text/x-python",
   "name": "python",
   "nbconvert_exporter": "python",
   "pygments_lexer": "ipython3",
   "version": "3.9.12"
  }
 },
 "nbformat": 4,
 "nbformat_minor": 5
}
